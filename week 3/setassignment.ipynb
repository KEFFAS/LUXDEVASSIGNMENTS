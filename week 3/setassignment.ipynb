{
 "cells": [
  {
   "cell_type": "markdown",
   "id": "dcd3f002",
   "metadata": {},
   "source": [
    "#### creating the set in python"
   ]
  },
  {
   "cell_type": "code",
   "execution_count": 2,
   "id": "713d95f8",
   "metadata": {},
   "outputs": [
    {
     "data": {
      "text/plain": [
       "set"
      ]
     },
     "execution_count": 2,
     "metadata": {},
     "output_type": "execute_result"
    }
   ],
   "source": [
    "U={1,2,3,4,5,6,7,8,9,10,11,12}\n",
    "A={2,4,6,8,10}\n",
    "B={3,8,11,12}\n",
    "C={2,3,6,8,9,11}\n",
    "type(U)"
   ]
  },
  {
   "cell_type": "markdown",
   "id": "8d8b6dcd",
   "metadata": {},
   "source": [
    "#### A intersection B"
   ]
  },
  {
   "cell_type": "code",
   "execution_count": 3,
   "id": "220a2937",
   "metadata": {},
   "outputs": [
    {
     "data": {
      "text/plain": [
       "{8}"
      ]
     },
     "execution_count": 3,
     "metadata": {},
     "output_type": "execute_result"
    }
   ],
   "source": [
    "# A intersection B\n",
    "A.intersection(B)"
   ]
  },
  {
   "cell_type": "code",
   "execution_count": 4,
   "id": "5aacdc88",
   "metadata": {},
   "outputs": [
    {
     "name": "stdout",
     "output_type": "stream",
     "text": [
      "{8}\n"
     ]
    }
   ],
   "source": [
    "ans1=A & B\n",
    "print(ans1)"
   ]
  },
  {
   "cell_type": "code",
   "execution_count": 5,
   "id": "40eedbed",
   "metadata": {},
   "outputs": [
    {
     "name": "stdout",
     "output_type": "stream",
     "text": [
      "{8}\n"
     ]
    }
   ],
   "source": [
    "intersection=A & B\n",
    "print(intersection)"
   ]
  },
  {
   "cell_type": "markdown",
   "id": "ae729fbd",
   "metadata": {},
   "source": [
    "#### A union C"
   ]
  },
  {
   "cell_type": "code",
   "execution_count": 6,
   "id": "1fc5cace",
   "metadata": {},
   "outputs": [
    {
     "data": {
      "text/plain": [
       "{2, 3, 4, 6, 8, 9, 10, 11}"
      ]
     },
     "execution_count": 6,
     "metadata": {},
     "output_type": "execute_result"
    }
   ],
   "source": [
    "A.union(C)"
   ]
  },
  {
   "cell_type": "code",
   "execution_count": 7,
   "id": "139051b8",
   "metadata": {},
   "outputs": [
    {
     "name": "stdout",
     "output_type": "stream",
     "text": [
      "{2, 3, 4, 6, 8, 9, 10, 11}\n"
     ]
    }
   ],
   "source": [
    "ans2=A |C\n",
    "print(ans2)"
   ]
  },
  {
   "cell_type": "markdown",
   "id": "3fd3d942",
   "metadata": {},
   "source": [
    "#### A compliment\n",
    "= U - A"
   ]
  },
  {
   "cell_type": "code",
   "execution_count": 8,
   "id": "d29c22ee",
   "metadata": {},
   "outputs": [
    {
     "name": "stdout",
     "output_type": "stream",
     "text": [
      "{1, 3, 5, 7, 9, 11, 12}\n"
     ]
    }
   ],
   "source": [
    "ans3=U - A\n",
    "print(ans3)"
   ]
  },
  {
   "cell_type": "markdown",
   "id": "8b06b657",
   "metadata": {},
   "source": [
    "#### The absolute complement of B"
   ]
  },
  {
   "cell_type": "code",
   "execution_count": 9,
   "id": "8a2c6b33",
   "metadata": {},
   "outputs": [
    {
     "name": "stdout",
     "output_type": "stream",
     "text": [
      "{1, 2, 4, 5, 6, 7, 9, 10}\n"
     ]
    }
   ],
   "source": [
    "B_compliment= U - B\n",
    "print(B_compliment)"
   ]
  },
  {
   "cell_type": "code",
   "execution_count": 10,
   "id": "647d29e5",
   "metadata": {},
   "outputs": [
    {
     "name": "stdout",
     "output_type": "stream",
     "text": [
      "{1, 2, 4, 5, 6, 7, 9, 10}\n"
     ]
    }
   ],
   "source": [
    "ans4= U - B\n",
    "print(ans4)"
   ]
  },
  {
   "cell_type": "markdown",
   "id": "717bf467",
   "metadata": {},
   "source": [
    "(A union B) compliment"
   ]
  },
  {
   "cell_type": "code",
   "execution_count": 11,
   "id": "68820d28",
   "metadata": {},
   "outputs": [
    {
     "name": "stdout",
     "output_type": "stream",
     "text": [
      "{1, 5, 9, 7}\n"
     ]
    }
   ],
   "source": [
    "A_union_B=A|B\n",
    "ans5=U-A_union_B # (A union B) compliment\n",
    "print(ans5)"
   ]
  },
  {
   "cell_type": "markdown",
   "id": "afbe05ae",
   "metadata": {},
   "source": [
    "#### B intersection (C compliment)"
   ]
  },
  {
   "cell_type": "code",
   "execution_count": 12,
   "id": "4e40c8a1",
   "metadata": {},
   "outputs": [
    {
     "name": "stdout",
     "output_type": "stream",
     "text": [
      "{12}\n"
     ]
    }
   ],
   "source": [
    "c_compliment=U-C # c compliment\n",
    "ans6=B & c_compliment # B intersection ( c compliment)\n",
    "print(ans6)\n",
    "\n"
   ]
  },
  {
   "cell_type": "markdown",
   "id": "2c696894",
   "metadata": {},
   "source": [
    "####  A \\ B : element in a and not in b"
   ]
  },
  {
   "cell_type": "code",
   "execution_count": 13,
   "id": "069a07cc",
   "metadata": {},
   "outputs": [
    {
     "name": "stdout",
     "output_type": "stream",
     "text": [
      "{2, 10, 4, 6}\n"
     ]
    }
   ],
   "source": [
    "ans7=A-B #element in a and not in b\n",
    "print(ans7)"
   ]
  },
  {
   "cell_type": "markdown",
   "id": "78ca3531",
   "metadata": {},
   "source": [
    "#### C-(b-a)"
   ]
  },
  {
   "cell_type": "code",
   "execution_count": 14,
   "id": "221251c9",
   "metadata": {},
   "outputs": [
    {
     "name": "stdout",
     "output_type": "stream",
     "text": [
      "{8, 9, 2, 6}\n"
     ]
    }
   ],
   "source": [
    "difference_b_a=B-A\n",
    "ans8=C-difference_b_a # C-(b-a)\n",
    "print(ans8)"
   ]
  },
  {
   "cell_type": "code",
   "execution_count": 15,
   "id": "91437721",
   "metadata": {},
   "outputs": [
    {
     "name": "stdout",
     "output_type": "stream",
     "text": [
      "{2, 6, 8, 9}\n"
     ]
    }
   ],
   "source": [
    "C_minus_B=C-B # c-b\n",
    "c_intersection_a=C&A #\n",
    "ans9=c_intersection_a |C_minus_B\n",
    "print(ans9)\n",
    "\n"
   ]
  },
  {
   "cell_type": "code",
   "execution_count": 17,
   "id": "0a4bc21f",
   "metadata": {},
   "outputs": [
    {
     "name": "stdout",
     "output_type": "stream",
     "text": [
      "9\n"
     ]
    }
   ],
   "source": [
    "# inclusion exclusion principle\n",
    "left_hand_eq=len(A.union(B,C))\n",
    "print(left_hand_eq)"
   ]
  },
  {
   "cell_type": "code",
   "execution_count": 18,
   "id": "1eb0d9ad",
   "metadata": {},
   "outputs": [
    {
     "name": "stdout",
     "output_type": "stream",
     "text": [
      "9\n"
     ]
    }
   ],
   "source": [
    "right_hand_eq=len(A)+len(B)+len(C)-len(A.intersection(B))-len(A.intersection(C))-len(B.intersection(C))+len(A.intersection(B).intersection(C))\n",
    "print(right_hand_eq)                                                                                                           "
   ]
  },
  {
   "cell_type": "markdown",
   "id": "87904fb6",
   "metadata": {},
   "source": [
    "#### SET OPERATIONS IN PYTHON\n"
   ]
  },
  {
   "cell_type": "code",
   "execution_count": null,
   "id": "8203beb7",
   "metadata": {},
   "outputs": [],
   "source": [
    "# creating sets\n",
    "Nina = set([\"Cat\",\"Dog\",\"Rabbit\",\"Donkey\",\"Parrot\", \"Goldfish\"])\n",
    "Mary = set([\"Dog\",\"Chinchilla\",\"Horse\", \"Chicken\"])\n",
    "Eve = set([\"Rabbit\", \"Turtle\", \"Goldfish\"])"
   ]
  },
  {
   "cell_type": "code",
   "execution_count": 52,
   "id": "301a5ab1",
   "metadata": {},
   "outputs": [
    {
     "name": "stdout",
     "output_type": "stream",
     "text": [
      "{'Goldfish', 'Rabbit'}\n"
     ]
    }
   ],
   "source": [
    "# Sadly, Eve's turtle passed away last week. Let's update her pet list accordingly.\n",
    "Eve.remove(\"Turtle\")\n",
    "print(Eve)"
   ]
  },
  {
   "cell_type": "code",
   "execution_count": 53,
   "id": "8e72524c",
   "metadata": {},
   "outputs": [
    {
     "name": "stdout",
     "output_type": "stream",
     "text": [
      "{'Goldfish', 'Parrot', 'Cat', 'Donkey', 'Chinchilla', 'Rabbit', 'Chicken', 'Horse', 'Dog'}\n"
     ]
    }
   ],
   "source": [
    "# Nina takes care of Mary's pets while she's away\n",
    "Nina.update(Mary)\n",
    "print(Nina)"
   ]
  },
  {
   "cell_type": "code",
   "execution_count": 54,
   "id": "2c719297",
   "metadata": {},
   "outputs": [
    {
     "name": "stdout",
     "output_type": "stream",
     "text": [
      "set()\n"
     ]
    }
   ],
   "source": [
    "# Mary, on the other hand, wants to clear her list altogether while away:\n",
    "Mary.clear()\n",
    "print(Mary)"
   ]
  },
  {
   "cell_type": "code",
   "execution_count": 55,
   "id": "79b90138",
   "metadata": {},
   "outputs": [
    {
     "name": "stdout",
     "output_type": "stream",
     "text": [
      "9\n"
     ]
    }
   ],
   "source": [
    "# Look at how many species Nina is taking care of right now.\n",
    "print(len(Nina))"
   ]
  },
  {
   "cell_type": "code",
   "execution_count": null,
   "id": "dd385218",
   "metadata": {},
   "outputs": [],
   "source": [
    "#Taking care of this many pets is weighing heavily on Nina. \n",
    "#She remembered Eve had a smaller collection of pets lately, and that's why she asks Eve to take care of the common species.\n",
    "#This way, the extra pets are not a huge effort on Eve's behalf. Let's update Nina's pet collection."
   ]
  },
  {
   "cell_type": "code",
   "execution_count": 56,
   "id": "3485b0a9",
   "metadata": {},
   "outputs": [
    {
     "name": "stdout",
     "output_type": "stream",
     "text": [
      "{'Goldfish', 'Rabbit'}\n"
     ]
    }
   ],
   "source": [
    "# Identify common species between Nina and Eve\n",
    "common_species= Nina.intersection(Eve)\n",
    "print(common_species)"
   ]
  },
  {
   "cell_type": "code",
   "execution_count": 57,
   "id": "9af55caa",
   "metadata": {},
   "outputs": [
    {
     "name": "stdout",
     "output_type": "stream",
     "text": [
      "{'Parrot', 'Cat', 'Donkey', 'Chinchilla', 'Chicken', 'Horse', 'Dog'}\n"
     ]
    }
   ],
   "source": [
    "# Remove these common species from Nina's list (since Eve is taking care of them)\n",
    "Nina.difference_update(common_species)\n",
    "print(Nina) #Nina's list without the common species\n"
   ]
  },
  {
   "cell_type": "code",
   "execution_count": 58,
   "id": "5fc3db17",
   "metadata": {},
   "outputs": [
    {
     "name": "stdout",
     "output_type": "stream",
     "text": [
      "7\n"
     ]
    }
   ],
   "source": [
    "print(len(Nina))"
   ]
  }
 ],
 "metadata": {
  "kernelspec": {
   "display_name": "base",
   "language": "python",
   "name": "python3"
  },
  "language_info": {
   "codemirror_mode": {
    "name": "ipython",
    "version": 3
   },
   "file_extension": ".py",
   "mimetype": "text/x-python",
   "name": "python",
   "nbconvert_exporter": "python",
   "pygments_lexer": "ipython3",
   "version": "3.12.7"
  }
 },
 "nbformat": 4,
 "nbformat_minor": 5
}
